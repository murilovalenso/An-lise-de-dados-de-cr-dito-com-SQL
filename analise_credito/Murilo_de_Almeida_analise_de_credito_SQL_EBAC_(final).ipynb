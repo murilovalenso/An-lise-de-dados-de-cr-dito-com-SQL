{
  "metadata": {
    "kernelspec": {
      "language": "python",
      "display_name": "Python 3",
      "name": "python3"
    },
    "language_info": {
      "pygments_lexer": "ipython3",
      "nbconvert_exporter": "python",
      "version": "3.6.4",
      "file_extension": ".py",
      "codemirror_mode": {
        "name": "ipython",
        "version": 3
      },
      "name": "python",
      "mimetype": "text/x-python"
    },
    "colab": {
      "provenance": []
    }
  },
  "nbformat_minor": 0,
  "nbformat": 4,
  "cells": [
    {
      "cell_type": "markdown",
      "source": [
        "# **Exploração e análise de dados de crédito com SQL**"
      ],
      "metadata": {
        "id": "ePtLr9ebQ8Xs"
      }
    },
    {
      "cell_type": "markdown",
      "source": [
        "#  **Os dados:**"
      ],
      "metadata": {
        "id": "UWV8nmvvQ8Xw"
      }
    },
    {
      "cell_type": "markdown",
      "source": [
        "Os dados representam informações de clientes de um banco e contam com as seguintes colunas:\n",
        "* idade = idade do cliente\n",
        "* sexo = sexo do cliente (F ou M)\n",
        "* dependentes = número de dependentes do cliente\n",
        "* escolaridade = nível de escolaridade do clientes\n",
        "* estado civil = situação conjugal dos clientes\n",
        "* salario_anual = faixa salarial do cliente\n",
        "* tipo_cartao = tipo de cartao do cliente\n",
        "* qtd_produtos = quantidade de produtos comprados nos últimos 12 meses\n",
        "* iteracoes_12m = quantidade de iterações/transacoes nos ultimos 12 meses\n",
        "* meses_inativo_12m = quantidade de meses que o cliente ficou inativo\n",
        "* limite_credito = limite de credito do cliente\n",
        "* valor_transacoes_12m = valor das transações dos ultimos 12 meses\n",
        "* qtd_transacoes_12m = quantidade de transacoes dos ultimos 12 meses"
      ],
      "metadata": {
        "id": "XGKAU2PuQ8Xy"
      }
    },
    {
      "cell_type": "markdown",
      "source": [
        "A tabela foi criada no AWS Athena junto com o S3 Bucket com uma versão dos dados disponibilizados em:  https://github.com/murilovalenso/Analise-de-dados-de-credito-com-SQL/blob/main/credito.csv"
      ],
      "metadata": {
        "id": "U9K--GkWQ8Xz"
      }
    },
    {
      "cell_type": "markdown",
      "source": [
        "# **Criação da tabela e algumas queries**\n",
        "\n",
        "```sql\n",
        "CREATE EXTERNAL TABLE IF NOT EXISTS default.credito (\n",
        "  `idade` int,\n",
        "  `sexo` string,\n",
        "  `dependentes` int,\n",
        "  `escolaridade` string,\n",
        "  `estado_civil` string,\n",
        "  `salario_anual` string,\n",
        "  `tipo_cartao` string,\n",
        "  `qtd_produtos` bigint,\n",
        "  `iteracoes_12m` int,\n",
        "  `meses_inativo_12m` int,\n",
        "  `limite_credito` float,\n",
        "  `valor_transacoes_12m` float,\n",
        "  `qtd_transacoes_12m` int\n",
        ")\n",
        "ROW FORMAT SERDE 'org.apache.hadoop.hive.serde2.lazy.LazySimpleSerDe'\n",
        "WITH SERDEPROPERTIES (\n",
        "  'serialization.format' = ',',\n",
        "  'field.delim' = ','\n",
        ") LOCATION <sua-localizacao>\n",
        "TBLPROPERTIES ('has_encrypted_data'='false');\n",
        "```\n",
        "\n"
      ],
      "metadata": {
        "id": "VGkgITcfn2R-"
      }
    },
    {
      "cell_type": "markdown",
      "source": [
        "# **Exploração de dados:**\n",
        "A primeira fase da análise é entender a nossa base de dados. Portanto, vamos iniciar a exploração de dados:"
      ],
      "metadata": {
        "id": "tlnnmy3NQ8Xz"
      }
    },
    {
      "cell_type": "markdown",
      "source": [
        "\n",
        "**Qual a quantidade de informações temos na nossa base de dados?**\n",
        "\n",
        "**Query-1:** SELECT count(*) as qtd_linhas FROM credito\n",
        "\n",
        "![Resposta](https://github.com/murilovalenso/Analise-de-dados-de-credito-com-SQL/blob/main/qtd_linhas.JPG?raw=true)\n",
        "\n",
        "\n",
        "**nota**.: A base de dados do link acima contém mais linhas do que a seleção utilizada. Você pode utilizar todas as linhas ou considerar apenas uma fração dos dados. Na prática, quanto maior a quantidade de dados utilizada, mais confiável é a análise! Mas, existem limites computacionais e financeiros, no qual a redução de dados para análise para fins de estudo se torna interessante."
      ],
      "metadata": {
        "id": "wLueMc3mQ8X0"
      }
    },
    {
      "cell_type": "markdown",
      "source": [
        "**Como são os dados:**\n",
        "\n",
        "**Query-2:** SELECT * FROM credito LIMIT 10;\n",
        "![](https://github.com/murilovalenso/Analise-de-dados-de-credito-com-SQL/blob/main/1-select..JPG?raw=true)\n",
        "\n",
        "> É possível reparar que existem algumas informações nulas na tabela (valor na), vamos olhar mais de perto para os valores de cada coluna!"
      ],
      "metadata": {
        "id": "1G_dis6oQ8X0"
      }
    },
    {
      "cell_type": "markdown",
      "source": [
        "**Quais os tipos de cada dado:**\n",
        "\n",
        "**Query-3:** DESCRIBE credito\n",
        "\n",
        "![Resposta](https://github.com/murilovalenso/Analise-de-dados-de-credito-com-SQL/blob/main/describe.JPG?raw=true)\n",
        "\n",
        "> Agora, podemos compreender quais são os tipos de dados, vamos analisar mais atentamente para as varíaveis que não são numéricas."
      ],
      "metadata": {
        "id": "a-WtCmgVQ8X1"
      }
    },
    {
      "cell_type": "markdown",
      "source": [
        "**Quais são os sexos?**\n",
        "\n",
        "**Query-4:** SELECT DISTINCT sexo FROM credito\n",
        "\n",
        "![](https://github.com/murilovalenso/Analise-de-dados-de-credito-com-SQL/blob/main/4-sexo.JPG?raw=true)"
      ],
      "metadata": {
        "id": "JEdcCKFKQ8X1"
      }
    },
    {
      "cell_type": "markdown",
      "source": [
        "**Quais são os tipos de escolaridade disponíveis no dataset?**\n",
        "\n",
        "**Query-5:** SELECT DISTINCT escolaridade FROM credito\n",
        "\n",
        "![Resposta](https://github.com/murilovalenso/Analise-de-dados-de-credito-com-SQL/blob/main/3-distinct.JPG?raw=true)\n",
        "\n",
        "> Os dados contam com vários níveis de escolaridade e é possível perceber que temos valores nulos (na) no dataset, trataremos isso mais tarde!\n",
        "\n",
        "Será que temos mais valores nulos?"
      ],
      "metadata": {
        "id": "hYcNnQWEQ8X1"
      }
    },
    {
      "cell_type": "markdown",
      "source": [
        "**Quais são os tipos de estado_civil disponíveis no dataset?**\n",
        "\n",
        "**Query-6:** SELECT DISTINCT estado_civil FROM credito\n",
        "\n",
        "![](https://github.com/murilovalenso/Analise-de-dados-de-credito-com-SQL/blob/main/estado_civil.JPG?raw=true)\n",
        "\n",
        "> Novamente encontramos valores nulos nos dados de estado civil!"
      ],
      "metadata": {
        "id": "ngBdg2xXQ8X2"
      }
    },
    {
      "cell_type": "markdown",
      "source": [
        "**Quais são os tipos de salario_anual disponíveis no dataset?**\n",
        "\n",
        "**Query-7:** SELECT DISTINCT salario_anual FROM credito\n",
        "\n",
        "![](https://github.com/murilovalenso/Analise-de-dados-de-credito-com-SQL/blob/main/salario_anual.JPG?raw=true)\n",
        "\n",
        "> Os salários nesse dataset não estão expostas com o valor exato que o cliente ganha. O que está informado é a faixa salarial de cada e, também, contêm dados nulos."
      ],
      "metadata": {
        "id": "SXy4APhpQ8X3"
      }
    },
    {
      "cell_type": "markdown",
      "source": [
        "**Quais são os tipos de cartão disponíveis no dataset?**\n",
        "\n",
        "**Query-8:** SELECT DISTINCT tipo_cartao FROM credito\n",
        "\n",
        "![](https://github.com/murilovalenso/Analise-de-dados-de-credito-com-SQL/blob/main/tipo_cartoes.png?raw=true)\n",
        "\n",
        "> Aqui vemos que não há necessidade de tratar valores nulos."
      ],
      "metadata": {
        "id": "NhLgWG4FQ8X3"
      }
    },
    {
      "cell_type": "markdown",
      "source": [
        "# **Análise de dados**\n",
        "\n",
        "Uma vez que exploramos o dados e buscamos entender quais são as informações que temos no nosso banco de dados, podemos analisar as informações para buscar entender o que está acontecendo no banco de dados. Vamos fazer iniciar as perguntas:  \n",
        "\n",
        "**Nesse banco de dados, quantos clientes temos de cada faixa salarial?**\n",
        "\n",
        "**Query-9:** select count(*), salario_anual from credito group by salario_anual\n",
        "\n",
        "![](https://github.com/murilovalenso/Analise-de-dados-de-credito-com-SQL/blob/main/Qtde_faixa%20salarial.PNG?raw=true)\n",
        "![](https://github.com/murilovalenso/Analise-de-dados-de-credito-com-SQL/blob/main/Graf_Clientes%20por%20Faixa%20Salarial%20anual.PNG?raw=true)\n",
        "\n",
        "> A maioria dos clientes dessa base de dados possui um renda menor que 40K e existem 235 clientes que não informaram ou não consta a faixa salarial. De certa forma, pode ser interessante para a empresa focar nesse público de mais baixa renda."
      ],
      "metadata": {
        "id": "78mbXqE8Q8X4"
      }
    },
    {
      "cell_type": "markdown",
      "source": [
        "**Qual quantidade de clientes por cartão?**\n",
        "\n",
        "**Query-10:** select count(*) as qtd_clientes, tipo_cartao from credito group by tipo_cartao\n",
        "\n",
        "![](https://github.com/murilovalenso/Analise-de-dados-de-credito-com-SQL/blob/main/7-qtde_cliente_cartao.JPG?raw=true)\n",
        "\n",
        "> Verificamos que o cartão blue possui a maior quantidade de clientes (2453), onde pode ser interessante focar nesse público e a minoria (02) possui um cartão platinum.\n"
      ],
      "metadata": {
        "id": "59aZD_WVQ8X4"
      }
    },
    {
      "cell_type": "markdown",
      "source": [
        "**Nesse banco de dados, quantos clientes são homens e quantos são mulheres?**\n",
        "\n",
        "**Query-11:** select count(*), sexo from credito group by sexo\n",
        "\n",
        "![](https://github.com/murilovalenso/Analise-de-dados-de-credito-com-SQL/blob/main/Qtde_sexo%202.PNG?raw=true)\n",
        "![](https://github.com/murilovalenso/Analise-de-dados-de-credito-com-SQL/blob/main/Graf_Sexo%202.PNG?raw=true)\n",
        "\n",
        "\n",
        "> A maioria dos clientes desse banco são homens e à partir do arquivo csv extraído dos dados é possível gerar um gráfico em pizza, para melhor visualização da proporção de masculino/feminino."
      ],
      "metadata": {
        "id": "h-6SHkXgQ8X5"
      }
    },
    {
      "cell_type": "markdown",
      "source": [
        "**Queremos focar o nosso marketing de maneira adequada para nossos clientes, qual será a idade deles?**\n",
        "\n",
        "**Query-12:** select avg(idade) as media_idade, min(idade) as min_idade, max(idade) as max_idade, sexo from credito group by sexo\n",
        "\n",
        "![](https://github.com/murilovalenso/Analise-de-dados-de-credito-com-SQL/blob/main/Segmentar%20por%20idade.PNG?raw=true)\n",
        "\n",
        "> Por meio dessa análise não foi possível extrair nenhuma informação relevante. A menor idade dos dois sexos é a mesma e a média é muito similar. A única diferença é a idade máxima, mas é um fato quase irrelevante pois a diferença não é tão gritante."
      ],
      "metadata": {
        "id": "mpN9X7ltQ8X5"
      }
    },
    {
      "cell_type": "markdown",
      "source": [
        "**Qual a maior e menor transação dos clientes?**\n",
        "\n",
        "**Query-13:** select min(valor_transacoes_12m) as gasto_minimo_cliente, max(valor_transacoes_12m) as gasto_maximo_cliente from credito\n",
        "\n",
        "![](https://github.com/murilovalenso/Analise-de-dados-de-credito-com-SQL/blob/main/11-maior_menor_transacao.JPG?raw=true)\n",
        "\n",
        "![](https://github.com/murilovalenso/Analise-de-dados-de-credito-com-SQL/blob/main/Graf_Transa%C3%A7%C3%A3o%20min%2Bmax%20anual.PNG?raw=true)\n",
        "\n",
        "> Nesse banco de dados temos soma de transações em 12 meses que variam de 510.16 à 4776.58"
      ],
      "metadata": {
        "id": "9RAwvy_RQ8X5"
      }
    },
    {
      "cell_type": "markdown",
      "source": [
        "**Quais as características dos clientes que possuem os maiores créditos?**\n",
        "\n",
        "**Query-14:** select max(limite_credito) as limite_credito, escolaridade, tipo_cartao, sexo from credito where escolaridade != 'na' and tipo_cartao != 'na' group by escolaridade, tipo_cartao, sexo order by limite_credito desc limit 10\n",
        "\n",
        "![](https://github.com/murilovalenso/Analise-de-dados-de-credito-com-SQL/blob/main/12-maiores_creditos.JPG?raw=true)\n",
        "\n",
        "> Não parece haver um impacto da escolaridade no limite. O limite mais alto é oferecido para um homem sem educação formal. O cartão também parece não estar relacionado com a escolaridade nem com o limite. Dentre os maiores limites, encontramos clientes com cartão: gold, silver, platinum e blue"
      ],
      "metadata": {
        "id": "bz8xUanRQ8X6"
      }
    },
    {
      "cell_type": "markdown",
      "source": [
        "**Quais as características dos clientes que possuem os menores créditos?**\n",
        "\n",
        "**Query-15:** select min(limite_credito) as limite_credito, escolaridade, tipo_cartao, sexo from credito where escolaridade != 'na' and tipo_cartao != 'na' group by escolaridade, tipo_cartao, sexo order by limite_credito desc limit 10\n",
        "\n",
        "![](https://github.com/murilovalenso/Analise-de-dados-de-credito-com-SQL/blob/main/13-menores_creditos.JPG?raw=true)\n",
        "\n",
        "> Nessa amostra, verificamos que não parece ter impacto da escolaridade com o limite de crédito.  Pois, um cliente com escolaridade 'mestrado' e cartão 'gold' do sexo 'F' tem o menor limite de crédito. Podemos pressumir que o cartão não está relacionado com a escolaridade nem com o limite."
      ],
      "metadata": {
        "id": "xFU9Fdt_Q8X6"
      }
    },
    {
      "cell_type": "markdown",
      "source": [
        "**Quem gasta mais homens ou mulheres?**\n",
        "\n",
        "**Query-16:** select max(valor_transacoes_12m) as maior_valor_gasto, avg(valor_transacoes_12m) as media_valor_gasto, min(valor_transacoes_12m) as min_valor_gasto, sexo from credito group by sexo\n",
        "\n",
        "![](https://github.com/murilovalenso/Analise-de-dados-de-credito-com-SQL/blob/main/14-quem_gasta_mais.JPG?raw=true)\n",
        "\n",
        "> Apesar da diferença nos limites, os gastos de homens e mulheres são similares."
      ],
      "metadata": {
        "id": "NmJgp6ZhWfyh"
      }
    },
    {
      "cell_type": "markdown",
      "source": [
        "**O estado civil e o sexo influencia no valor gasto?**\n",
        "\n",
        "**Query-17:** select max(valor_transacoes_12m) as maior_valor_gasto, avg(valor_transacoes_12m) as media_valor_gasto, min(valor_transacoes_12m) as min_valor_gasto, sexo, estado_civil\n",
        "from credito\n",
        "where estado_civil != 'na'\n",
        "group by sexo, estado_civil\n",
        "order by avg(valor_transacoes_12m) desc\n",
        "\n",
        "![](https://github.com/murilovalenso/Analise-de-dados-de-credito-com-SQL/blob/main/15-estadoCivil_sexo_gasto.JPG?raw=true)\n",
        "\n",
        "> Sim! O cliente do estado civil 'feminino e solteira' apresenta maior valor gasto. Mas, a amostra também moostra que tanto os homens quanto as mulheres dos estado_civil (solteiro, casado ou divorcidado), possuem uma média de valor gasto muito similar, em que as vezes a diferença entre eles não ultrapassa 100.0."
      ],
      "metadata": {
        "id": "iljV5asdQ8X7"
      }
    },
    {
      "cell_type": "markdown",
      "source": [
        "**O salário impacta no limite?**\n",
        "\n",
        "**Query-18:** select avg(qtd_produtos) as qts_produtos, avg(valor_transacoes_12m) as media_valor_transacoes, avg(limite_credito) as media_limite, sexo, salario_anual from credito where salario_anual != 'na' group by sexo, salario_anual order by avg(valor_transacoes_12m) desc\n",
        "\n",
        "![](https://github.com/murilovalenso/Analise-de-dados-de-credito-com-SQL/blob/main/16-salarioxlimite.jpg?raw=true)\n",
        "\n",
        "> SIM! As pessoas que tem menor faixa salarial também apresentam menor limite de credito!"
      ],
      "metadata": {
        "id": "E1kDH1sSQ8X7"
      }
    },
    {
      "cell_type": "markdown",
      "source": [
        "# **Conclusão**\n",
        "\n",
        "Essas foram algumas análises extraídas do dataset de crédito.\n",
        "\n",
        "\n",
        "Alguns insights interessantes:\n",
        "\n",
        "* a maior parte dos clientes possui renda até 40K\n",
        "* a maior parte dos clientes é masculino!\n",
        "* a escolaridade não parece influenciar no limite nem no tipo do cartão\n",
        "* o sexo e estado civil não parece influenciar no limite do cartão\n",
        "* os clientes com maiores limites são em sua maioria homens\n",
        "* os clientes com menores limites são em sua maioria mulheres\n",
        "* dentre os menores limites não há presença de cartão platinum\n",
        "* a faixa salarial impacta diretamente no limite de crédito\n",
        "* nao existem clientes com salário anual acima de 60K do sexo feminino\n",
        "* as mulheres e solteiras apresentam maior valor gasto\n",
        "\n",
        "\n",
        "Uma exploração maior dos dados pode explicar porque as mulheres tem menor crédito. Isso também pode ser um problema cultural que pode ser repensado!"
      ],
      "metadata": {
        "id": "bwM8WQe9Q8X8"
      }
    }
  ]
}